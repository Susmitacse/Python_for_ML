{
  "nbformat": 4,
  "nbformat_minor": 0,
  "metadata": {
    "colab": {
      "name": "Lists_Tuples_Dict_Sets.ipynb",
      "provenance": [],
      "collapsed_sections": [],
      "authorship_tag": "ABX9TyM5ULmnw0kddayrcVMFVwMP"
    },
    "kernelspec": {
      "name": "python3",
      "display_name": "Python 3"
    }
  },
  "cells": [
    {
      "cell_type": "markdown",
      "metadata": {
        "id": "DVCAyMlSnrzk",
        "colab_type": "text"
      },
      "source": [
        "##**Boolean**"
      ]
    },
    {
      "cell_type": "code",
      "metadata": {
        "id": "wz4g92s0nKJs",
        "colab_type": "code",
        "colab": {
          "base_uri": "https://localhost:8080/",
          "height": 34
        },
        "outputId": "67d6a4b4-4baf-475d-b202-2ec3f9b2935d"
      },
      "source": [
        "True"
      ],
      "execution_count": 1,
      "outputs": [
        {
          "output_type": "execute_result",
          "data": {
            "text/plain": [
              "True"
            ]
          },
          "metadata": {
            "tags": []
          },
          "execution_count": 1
        }
      ]
    },
    {
      "cell_type": "code",
      "metadata": {
        "id": "0pharXS8n1-I",
        "colab_type": "code",
        "colab": {
          "base_uri": "https://localhost:8080/",
          "height": 34
        },
        "outputId": "080e9dd1-429d-4ea0-8b14-e1498980df7a"
      },
      "source": [
        "type(True)"
      ],
      "execution_count": 2,
      "outputs": [
        {
          "output_type": "execute_result",
          "data": {
            "text/plain": [
              "bool"
            ]
          },
          "metadata": {
            "tags": []
          },
          "execution_count": 2
        }
      ]
    },
    {
      "cell_type": "code",
      "metadata": {
        "id": "d6bnhEt_n2AO",
        "colab_type": "code",
        "colab": {
          "base_uri": "https://localhost:8080/",
          "height": 34
        },
        "outputId": "8126d232-2ad2-48f0-af45-30ed1963878f"
      },
      "source": [
        "name =\"Susmita das\"\n",
        "type(name)\n"
      ],
      "execution_count": 3,
      "outputs": [
        {
          "output_type": "execute_result",
          "data": {
            "text/plain": [
              "str"
            ]
          },
          "metadata": {
            "tags": []
          },
          "execution_count": 3
        }
      ]
    },
    {
      "cell_type": "code",
      "metadata": {
        "id": "Sxn-OfAkn2H0",
        "colab_type": "code",
        "colab": {
          "base_uri": "https://localhost:8080/",
          "height": 119
        },
        "outputId": "35dfc4e5-8b51-4efb-f97e-b591bd623244"
      },
      "source": [
        "print(name.isalnum())\n",
        "print(name.isalpha())\n",
        "print(name.isupper())    # because it has lower as well as upper case\n",
        "print(name.islower())\n",
        "print(name.startswith('S'))\n",
        "print(name.isnumeric())"
      ],
      "execution_count": 4,
      "outputs": [
        {
          "output_type": "stream",
          "text": [
            "False\n",
            "False\n",
            "False\n",
            "False\n",
            "True\n",
            "False\n"
          ],
          "name": "stdout"
        }
      ]
    },
    {
      "cell_type": "markdown",
      "metadata": {
        "id": "-LJGQDezqRSp",
        "colab_type": "text"
      },
      "source": [
        "## Boolean And Logical Operators"
      ]
    },
    {
      "cell_type": "code",
      "metadata": {
        "id": "QLc8HjWTn2FR",
        "colab_type": "code",
        "colab": {
          "base_uri": "https://localhost:8080/",
          "height": 34
        },
        "outputId": "5725dfc1-a83e-4b22-cad1-67f1a9917933"
      },
      "source": [
        "True and True"
      ],
      "execution_count": 5,
      "outputs": [
        {
          "output_type": "execute_result",
          "data": {
            "text/plain": [
              "True"
            ]
          },
          "metadata": {
            "tags": []
          },
          "execution_count": 5
        }
      ]
    },
    {
      "cell_type": "code",
      "metadata": {
        "id": "cr-YZk_Nn2Dy",
        "colab_type": "code",
        "colab": {
          "base_uri": "https://localhost:8080/",
          "height": 34
        },
        "outputId": "76cfa3d6-70d6-4c9f-8892-5197725664ca"
      },
      "source": [
        "True and False"
      ],
      "execution_count": 6,
      "outputs": [
        {
          "output_type": "execute_result",
          "data": {
            "text/plain": [
              "False"
            ]
          },
          "metadata": {
            "tags": []
          },
          "execution_count": 6
        }
      ]
    },
    {
      "cell_type": "code",
      "metadata": {
        "id": "sYx6dK6kqhap",
        "colab_type": "code",
        "colab": {
          "base_uri": "https://localhost:8080/",
          "height": 34
        },
        "outputId": "133a9e76-8e1d-4387-e765-b4630a9507d5"
      },
      "source": [
        "False and False"
      ],
      "execution_count": 7,
      "outputs": [
        {
          "output_type": "execute_result",
          "data": {
            "text/plain": [
              "False"
            ]
          },
          "metadata": {
            "tags": []
          },
          "execution_count": 7
        }
      ]
    },
    {
      "cell_type": "code",
      "metadata": {
        "id": "MXRIYTjSqhjJ",
        "colab_type": "code",
        "colab": {
          "base_uri": "https://localhost:8080/",
          "height": 34
        },
        "outputId": "24c61e6d-3f28-4ed8-aa1b-1a2b30cfc344"
      },
      "source": [
        "True or False"
      ],
      "execution_count": 8,
      "outputs": [
        {
          "output_type": "execute_result",
          "data": {
            "text/plain": [
              "True"
            ]
          },
          "metadata": {
            "tags": []
          },
          "execution_count": 8
        }
      ]
    },
    {
      "cell_type": "code",
      "metadata": {
        "id": "eMJcdbQ5qhpd",
        "colab_type": "code",
        "colab": {
          "base_uri": "https://localhost:8080/",
          "height": 34
        },
        "outputId": "24075daf-ff51-4ea1-d907-986952b36a8a"
      },
      "source": [
        "False or True"
      ],
      "execution_count": 9,
      "outputs": [
        {
          "output_type": "execute_result",
          "data": {
            "text/plain": [
              "True"
            ]
          },
          "metadata": {
            "tags": []
          },
          "execution_count": 9
        }
      ]
    },
    {
      "cell_type": "code",
      "metadata": {
        "id": "jSwtdsWUqrgX",
        "colab_type": "code",
        "colab": {}
      },
      "source": [
        "a = \"Hello\"\n",
        "b = \"World\"\n"
      ],
      "execution_count": 10,
      "outputs": []
    },
    {
      "cell_type": "code",
      "metadata": {
        "id": "DgISLzrDqriM",
        "colab_type": "code",
        "colab": {
          "base_uri": "https://localhost:8080/",
          "height": 34
        },
        "outputId": "c6f91d4d-974f-448e-b398-620e7b32bcda"
      },
      "source": [
        "a.isalpha() or b.isnumeric()     # since 'a' is alphanumeric it is true"
      ],
      "execution_count": 11,
      "outputs": [
        {
          "output_type": "execute_result",
          "data": {
            "text/plain": [
              "True"
            ]
          },
          "metadata": {
            "tags": []
          },
          "execution_count": 11
        }
      ]
    },
    {
      "cell_type": "markdown",
      "metadata": {
        "id": "859aVETariZv",
        "colab_type": "text"
      },
      "source": [
        "#**List**\n",
        "List is a collection which is ordered and changeable. Allows duplicate members. Each value inside a list is called an item. Lists are defined by square brackets [   ]."
      ]
    },
    {
      "cell_type": "code",
      "metadata": {
        "id": "Lb9KebNKtCfM",
        "colab_type": "code",
        "colab": {
          "base_uri": "https://localhost:8080/",
          "height": 34
        },
        "outputId": "1e431328-6af8-4e14-ec74-2f12a10993b1"
      },
      "source": [
        "type([])"
      ],
      "execution_count": 12,
      "outputs": [
        {
          "output_type": "execute_result",
          "data": {
            "text/plain": [
              "list"
            ]
          },
          "metadata": {
            "tags": []
          },
          "execution_count": 12
        }
      ]
    },
    {
      "cell_type": "code",
      "metadata": {
        "id": "wZl9sXuyqrl2",
        "colab_type": "code",
        "colab": {}
      },
      "source": [
        "lst_example =[]"
      ],
      "execution_count": 13,
      "outputs": []
    },
    {
      "cell_type": "code",
      "metadata": {
        "id": "MDwDSNlUszE-",
        "colab_type": "code",
        "colab": {
          "base_uri": "https://localhost:8080/",
          "height": 34
        },
        "outputId": "0d448f0e-e85e-4f3c-aad3-a95bf51166d2"
      },
      "source": [
        "type(lst_example)"
      ],
      "execution_count": 14,
      "outputs": [
        {
          "output_type": "execute_result",
          "data": {
            "text/plain": [
              "list"
            ]
          },
          "metadata": {
            "tags": []
          },
          "execution_count": 14
        }
      ]
    },
    {
      "cell_type": "code",
      "metadata": {
        "id": "dVQnDq5LszO_",
        "colab_type": "code",
        "colab": {
          "base_uri": "https://localhost:8080/",
          "height": 34
        },
        "outputId": "e6c3703e-d3d8-4116-8ed4-56fe4700c2dd"
      },
      "source": [
        "lst = list()\n",
        "type(lst)"
      ],
      "execution_count": 15,
      "outputs": [
        {
          "output_type": "execute_result",
          "data": {
            "text/plain": [
              "list"
            ]
          },
          "metadata": {
            "tags": []
          },
          "execution_count": 15
        }
      ]
    },
    {
      "cell_type": "code",
      "metadata": {
        "id": "FIRr9ebVszL5",
        "colab_type": "code",
        "colab": {}
      },
      "source": [
        "lst1 = [\"Susmita\", \"Shubham\", \"Pooja\", 100, 200, 300]"
      ],
      "execution_count": 16,
      "outputs": []
    },
    {
      "cell_type": "code",
      "metadata": {
        "id": "EotsffJzszJ_",
        "colab_type": "code",
        "colab": {
          "base_uri": "https://localhost:8080/",
          "height": 34
        },
        "outputId": "5e6f4384-f308-4ceb-9a87-0bb1a590c9c5"
      },
      "source": [
        "type(lst1)"
      ],
      "execution_count": 17,
      "outputs": [
        {
          "output_type": "execute_result",
          "data": {
            "text/plain": [
              "list"
            ]
          },
          "metadata": {
            "tags": []
          },
          "execution_count": 17
        }
      ]
    },
    {
      "cell_type": "markdown",
      "metadata": {
        "id": "DrGdjnPOvE58",
        "colab_type": "text"
      },
      "source": [
        "###Append"
      ]
    },
    {
      "cell_type": "code",
      "metadata": {
        "id": "_lh0ui9dszHf",
        "colab_type": "code",
        "colab": {}
      },
      "source": [
        "lst1.append(\"Kharagpur\")"
      ],
      "execution_count": 18,
      "outputs": []
    },
    {
      "cell_type": "code",
      "metadata": {
        "id": "8xwgrfRwvEeI",
        "colab_type": "code",
        "colab": {
          "base_uri": "https://localhost:8080/",
          "height": 34
        },
        "outputId": "b1f2e9ab-0a7c-4693-d237-2ffd282b6126"
      },
      "source": [
        "lst1"
      ],
      "execution_count": 19,
      "outputs": [
        {
          "output_type": "execute_result",
          "data": {
            "text/plain": [
              "['Susmita', 'Shubham', 'Pooja', 100, 200, 300, 'Kharagpur']"
            ]
          },
          "metadata": {
            "tags": []
          },
          "execution_count": 19
        }
      ]
    },
    {
      "cell_type": "code",
      "metadata": {
        "id": "XJty5ExKwbF6",
        "colab_type": "code",
        "colab": {}
      },
      "source": [
        "lst1.append([\"Ram\", \"Sita\"])\n"
      ],
      "execution_count": 20,
      "outputs": []
    },
    {
      "cell_type": "code",
      "metadata": {
        "id": "XP0ud4tGwclR",
        "colab_type": "code",
        "colab": {
          "base_uri": "https://localhost:8080/",
          "height": 34
        },
        "outputId": "03ea360a-5975-4ac4-c4bc-2b2e21193660"
      },
      "source": [
        "lst1"
      ],
      "execution_count": 21,
      "outputs": [
        {
          "output_type": "execute_result",
          "data": {
            "text/plain": [
              "['Susmita', 'Shubham', 'Pooja', 100, 200, 300, 'Kharagpur', ['Ram', 'Sita']]"
            ]
          },
          "metadata": {
            "tags": []
          },
          "execution_count": 21
        }
      ]
    },
    {
      "cell_type": "code",
      "metadata": {
        "id": "mJEcSelxxEId",
        "colab_type": "code",
        "colab": {}
      },
      "source": [
        "lst1.remove([\"Ram\", \"Sita\"])"
      ],
      "execution_count": 22,
      "outputs": []
    },
    {
      "cell_type": "code",
      "metadata": {
        "id": "EYPoxDuexFZJ",
        "colab_type": "code",
        "colab": {
          "base_uri": "https://localhost:8080/",
          "height": 34
        },
        "outputId": "59c04401-c893-4e33-b89a-dc009e9a6a3f"
      },
      "source": [
        "lst1"
      ],
      "execution_count": 23,
      "outputs": [
        {
          "output_type": "execute_result",
          "data": {
            "text/plain": [
              "['Susmita', 'Shubham', 'Pooja', 100, 200, 300, 'Kharagpur']"
            ]
          },
          "metadata": {
            "tags": []
          },
          "execution_count": 23
        }
      ]
    },
    {
      "cell_type": "markdown",
      "metadata": {
        "id": "LGt8Xg1Rv8qN",
        "colab_type": "text"
      },
      "source": [
        "#### Indexing in List\n"
      ]
    },
    {
      "cell_type": "code",
      "metadata": {
        "id": "KMLEZPhDvfQF",
        "colab_type": "code",
        "colab": {
          "base_uri": "https://localhost:8080/",
          "height": 35
        },
        "outputId": "be7282aa-cf14-4089-dd3c-9be0497830be"
      },
      "source": [
        "lst1[1]"
      ],
      "execution_count": 24,
      "outputs": [
        {
          "output_type": "execute_result",
          "data": {
            "application/vnd.google.colaboratory.intrinsic+json": {
              "type": "string"
            },
            "text/plain": [
              "'Shubham'"
            ]
          },
          "metadata": {
            "tags": []
          },
          "execution_count": 24
        }
      ]
    },
    {
      "cell_type": "code",
      "metadata": {
        "id": "CAwi4ngBvfWu",
        "colab_type": "code",
        "colab": {
          "base_uri": "https://localhost:8080/",
          "height": 34
        },
        "outputId": "95de4708-fe95-4eeb-c704-d7b3218c3b24"
      },
      "source": [
        "lst1[1:4]"
      ],
      "execution_count": 25,
      "outputs": [
        {
          "output_type": "execute_result",
          "data": {
            "text/plain": [
              "['Shubham', 'Pooja', 100]"
            ]
          },
          "metadata": {
            "tags": []
          },
          "execution_count": 25
        }
      ]
    },
    {
      "cell_type": "markdown",
      "metadata": {
        "id": "oOovBF7ExZ5Q",
        "colab_type": "text"
      },
      "source": [
        "###Insert"
      ]
    },
    {
      "cell_type": "code",
      "metadata": {
        "id": "Nsp60AUIvfbs",
        "colab_type": "code",
        "colab": {}
      },
      "source": [
        "lst1.insert(1, \"Hello\")           # 1 is the index position and  Hello is the item to be inserted"
      ],
      "execution_count": 26,
      "outputs": []
    },
    {
      "cell_type": "code",
      "metadata": {
        "id": "lt9zt507vffd",
        "colab_type": "code",
        "colab": {
          "base_uri": "https://localhost:8080/",
          "height": 34
        },
        "outputId": "3b4b01ba-782e-48b2-a619-24c9d6eea221"
      },
      "source": [
        "lst1"
      ],
      "execution_count": 27,
      "outputs": [
        {
          "output_type": "execute_result",
          "data": {
            "text/plain": [
              "['Susmita', 'Hello', 'Shubham', 'Pooja', 100, 200, 300, 'Kharagpur']"
            ]
          },
          "metadata": {
            "tags": []
          },
          "execution_count": 27
        }
      ]
    },
    {
      "cell_type": "markdown",
      "metadata": {
        "id": "k9lCKIj7xy8g",
        "colab_type": "text"
      },
      "source": [
        "\n",
        "### Extend"
      ]
    },
    {
      "cell_type": "code",
      "metadata": {
        "id": "CozR_4xKvfnT",
        "colab_type": "code",
        "colab": {}
      },
      "source": [
        "lst2 = [1,2,3,4,5,6]"
      ],
      "execution_count": 34,
      "outputs": []
    },
    {
      "cell_type": "code",
      "metadata": {
        "id": "BWqmQpuMvfaY",
        "colab_type": "code",
        "colab": {}
      },
      "source": [
        "lst2.extend([7,8])"
      ],
      "execution_count": 35,
      "outputs": []
    },
    {
      "cell_type": "code",
      "metadata": {
        "id": "llOdMD-SvfVU",
        "colab_type": "code",
        "colab": {
          "base_uri": "https://localhost:8080/",
          "height": 34
        },
        "outputId": "89af8c6f-8513-485d-d63e-77a37c371971"
      },
      "source": [
        "lst2"
      ],
      "execution_count": 36,
      "outputs": [
        {
          "output_type": "execute_result",
          "data": {
            "text/plain": [
              "[1, 2, 3, 4, 5, 6, 7, 8]"
            ]
          },
          "metadata": {
            "tags": []
          },
          "execution_count": 36
        }
      ]
    },
    {
      "cell_type": "markdown",
      "metadata": {
        "id": "LUcnW0SY0d10",
        "colab_type": "text"
      },
      "source": [
        "### Various operations can be performed on list"
      ]
    },
    {
      "cell_type": "code",
      "metadata": {
        "id": "SB50AAlMvfS5",
        "colab_type": "code",
        "colab": {
          "base_uri": "https://localhost:8080/",
          "height": 34
        },
        "outputId": "bdd8187d-9c30-4443-a47f-0d7ce85ea4db"
      },
      "source": [
        "sum(lst2)"
      ],
      "execution_count": 37,
      "outputs": [
        {
          "output_type": "execute_result",
          "data": {
            "text/plain": [
              "36"
            ]
          },
          "metadata": {
            "tags": []
          },
          "execution_count": 37
        }
      ]
    },
    {
      "cell_type": "markdown",
      "metadata": {
        "id": "5jkqMe6302xM",
        "colab_type": "text"
      },
      "source": [
        "\n",
        "### Pop() elements\n"
      ]
    },
    {
      "cell_type": "code",
      "metadata": {
        "id": "Om-rI8Pf0ycw",
        "colab_type": "code",
        "colab": {
          "base_uri": "https://localhost:8080/",
          "height": 34
        },
        "outputId": "9e651cb6-32ff-4f08-e047-fbf8d70d8703"
      },
      "source": [
        "lst2.pop()"
      ],
      "execution_count": 40,
      "outputs": [
        {
          "output_type": "execute_result",
          "data": {
            "text/plain": [
              "8"
            ]
          },
          "metadata": {
            "tags": []
          },
          "execution_count": 40
        }
      ]
    },
    {
      "cell_type": "code",
      "metadata": {
        "id": "g1mMqpop0yhA",
        "colab_type": "code",
        "colab": {
          "base_uri": "https://localhost:8080/",
          "height": 34
        },
        "outputId": "1fac3b93-2fdb-45c1-ed56-d82d2f839c10"
      },
      "source": [
        "lst2"
      ],
      "execution_count": 41,
      "outputs": [
        {
          "output_type": "execute_result",
          "data": {
            "text/plain": [
              "[1, 2, 3, 4, 5, 6, 7]"
            ]
          },
          "metadata": {
            "tags": []
          },
          "execution_count": 41
        }
      ]
    },
    {
      "cell_type": "markdown",
      "metadata": {
        "id": "8W4ywRhs1blo",
        "colab_type": "text"
      },
      "source": [
        "\n",
        "\n",
        "### Count( )   Calculates the occurrence of all elements "
      ]
    },
    {
      "cell_type": "code",
      "metadata": {
        "id": "OA9H0BJ10ybA",
        "colab_type": "code",
        "colab": {}
      },
      "source": [
        "lst3 = [1,2,2,3,4,4,4]"
      ],
      "execution_count": 42,
      "outputs": []
    },
    {
      "cell_type": "code",
      "metadata": {
        "id": "eG4hKvUv0yZB",
        "colab_type": "code",
        "colab": {
          "base_uri": "https://localhost:8080/",
          "height": 34
        },
        "outputId": "185c8625-b405-4d2e-b0b6-3a6a49ff2399"
      },
      "source": [
        "lst3.count(4)"
      ],
      "execution_count": 44,
      "outputs": [
        {
          "output_type": "execute_result",
          "data": {
            "text/plain": [
              "3"
            ]
          },
          "metadata": {
            "tags": []
          },
          "execution_count": 44
        }
      ]
    },
    {
      "cell_type": "markdown",
      "metadata": {
        "id": "IrcoubZd4wOE",
        "colab_type": "text"
      },
      "source": [
        "### Length of List, Min, Max"
      ]
    },
    {
      "cell_type": "code",
      "metadata": {
        "id": "nrZPsHhc12Un",
        "colab_type": "code",
        "colab": {
          "base_uri": "https://localhost:8080/",
          "height": 34
        },
        "outputId": "b99e57ed-c0df-448d-a450-249e381e2101"
      },
      "source": [
        "len(lst3)"
      ],
      "execution_count": 45,
      "outputs": [
        {
          "output_type": "execute_result",
          "data": {
            "text/plain": [
              "7"
            ]
          },
          "metadata": {
            "tags": []
          },
          "execution_count": 45
        }
      ]
    },
    {
      "cell_type": "code",
      "metadata": {
        "id": "zx23-6Ms12ad",
        "colab_type": "code",
        "colab": {
          "base_uri": "https://localhost:8080/",
          "height": 34
        },
        "outputId": "f0a4d37c-7cfd-452e-d9df-05b7b93b756e"
      },
      "source": [
        "min(lst3)"
      ],
      "execution_count": 46,
      "outputs": [
        {
          "output_type": "execute_result",
          "data": {
            "text/plain": [
              "1"
            ]
          },
          "metadata": {
            "tags": []
          },
          "execution_count": 46
        }
      ]
    },
    {
      "cell_type": "code",
      "metadata": {
        "id": "BVFq0v4c12Yu",
        "colab_type": "code",
        "colab": {
          "base_uri": "https://localhost:8080/",
          "height": 34
        },
        "outputId": "c382afa4-351b-435e-e906-69e82a23b0f2"
      },
      "source": [
        "max(lst3)"
      ],
      "execution_count": 47,
      "outputs": [
        {
          "output_type": "execute_result",
          "data": {
            "text/plain": [
              "4"
            ]
          },
          "metadata": {
            "tags": []
          },
          "execution_count": 47
        }
      ]
    },
    {
      "cell_type": "code",
      "metadata": {
        "id": "UbQ7bQno5EDI",
        "colab_type": "code",
        "colab": {
          "base_uri": "https://localhost:8080/",
          "height": 34
        },
        "outputId": "dac26b1d-82d2-4b7b-9992-1790266c1a92"
      },
      "source": [
        "lst3*2                         # appends all the elements to the existing list"
      ],
      "execution_count": 58,
      "outputs": [
        {
          "output_type": "execute_result",
          "data": {
            "text/plain": [
              "[1, 2, 2, 3, 4, 4, 4, 1, 2, 2, 3, 4, 4, 4]"
            ]
          },
          "metadata": {
            "tags": []
          },
          "execution_count": 58
        }
      ]
    },
    {
      "cell_type": "markdown",
      "metadata": {
        "id": "_6ncAxmS5PtZ",
        "colab_type": "text"
      },
      "source": [
        "# **Sets**\n",
        "Set is a collection which is unordered and unindexed. No duplicate members."
      ]
    },
    {
      "cell_type": "code",
      "metadata": {
        "id": "wM9GktMJ5EVD",
        "colab_type": "code",
        "colab": {
          "base_uri": "https://localhost:8080/",
          "height": 51
        },
        "outputId": "3dec0e90-1ed8-4571-e6fa-efb01e524076"
      },
      "source": [
        "#  Defining an empty set\n",
        "set_var = set()\n",
        "print(set_var)\n",
        "print(type(set_var))\n"
      ],
      "execution_count": 48,
      "outputs": [
        {
          "output_type": "stream",
          "text": [
            "set()\n",
            "<class 'set'>\n"
          ],
          "name": "stdout"
        }
      ]
    },
    {
      "cell_type": "code",
      "metadata": {
        "id": "7I474F4y6c1h",
        "colab_type": "code",
        "colab": {
          "base_uri": "https://localhost:8080/",
          "height": 34
        },
        "outputId": "79eef8e9-a032-47e9-8242-1ea38dad1bc6"
      },
      "source": [
        "set1= {1,2,3,4,5,6}\n",
        "set1"
      ],
      "execution_count": 52,
      "outputs": [
        {
          "output_type": "execute_result",
          "data": {
            "text/plain": [
              "{1, 2, 3, 4, 5, 6}"
            ]
          },
          "metadata": {
            "tags": []
          },
          "execution_count": 52
        }
      ]
    },
    {
      "cell_type": "code",
      "metadata": {
        "id": "DKbp7QnH6jMr",
        "colab_type": "code",
        "colab": {
          "base_uri": "https://localhost:8080/",
          "height": 34
        },
        "outputId": "adc0752b-b334-4725-90ce-f9a3c76ccc88"
      },
      "source": [
        "# Set sontains no duplicates\n",
        "\n",
        "set2={1,2,3,4,4,4}\n",
        "set2"
      ],
      "execution_count": 54,
      "outputs": [
        {
          "output_type": "execute_result",
          "data": {
            "text/plain": [
              "{1, 2, 3, 4}"
            ]
          },
          "metadata": {
            "tags": []
          },
          "execution_count": 54
        }
      ]
    },
    {
      "cell_type": "code",
      "metadata": {
        "id": "qgAU1v8o5Ea0",
        "colab_type": "code",
        "colab": {
          "base_uri": "https://localhost:8080/",
          "height": 51
        },
        "outputId": "129fb273-11c7-4bc2-e603-cda8b5c22c42"
      },
      "source": [
        "set_var ={\"Avengers\", \"Batman\", \"Spiderman\"}\n",
        "print(set_var)\n",
        "type(set_var)"
      ],
      "execution_count": 50,
      "outputs": [
        {
          "output_type": "stream",
          "text": [
            "{'Avengers', 'Spiderman', 'Batman'}\n"
          ],
          "name": "stdout"
        },
        {
          "output_type": "execute_result",
          "data": {
            "text/plain": [
              "set"
            ]
          },
          "metadata": {
            "tags": []
          },
          "execution_count": 50
        }
      ]
    },
    {
      "cell_type": "code",
      "metadata": {
        "id": "4TgZ83ki5EZK",
        "colab_type": "code",
        "colab": {
          "base_uri": "https://localhost:8080/",
          "height": 34
        },
        "outputId": "b4d18ab8-0b96-45b3-a63a-8c12f0d004b4"
      },
      "source": [
        "set_var.add(\"Ironman\")\n",
        "set_var"
      ],
      "execution_count": 57,
      "outputs": [
        {
          "output_type": "execute_result",
          "data": {
            "text/plain": [
              "{'Avengers', 'Batman', 'Ironman', 'Spiderman'}"
            ]
          },
          "metadata": {
            "tags": []
          },
          "execution_count": 57
        }
      ]
    },
    {
      "cell_type": "code",
      "metadata": {
        "id": "K2d__dMC5D_j",
        "colab_type": "code",
        "colab": {}
      },
      "source": [
        "set1={\"Avengers\", \"Ironman\", \"Superman\"}\n",
        "set2={\"Avengers\", \"Ironman\", \"Superman\", \"Hulk\"}\n"
      ],
      "execution_count": 59,
      "outputs": []
    },
    {
      "cell_type": "code",
      "metadata": {
        "id": "XVGyeK0F5D96",
        "colab_type": "code",
        "colab": {
          "base_uri": "https://localhost:8080/",
          "height": 34
        },
        "outputId": "5959886a-bce0-4823-89fd-b636a453d397"
      },
      "source": [
        "set2.difference(set1)"
      ],
      "execution_count": 60,
      "outputs": [
        {
          "output_type": "execute_result",
          "data": {
            "text/plain": [
              "{'Hulk'}"
            ]
          },
          "metadata": {
            "tags": []
          },
          "execution_count": 60
        }
      ]
    },
    {
      "cell_type": "code",
      "metadata": {
        "id": "E0meZSXE5D7z",
        "colab_type": "code",
        "colab": {
          "base_uri": "https://localhost:8080/",
          "height": 34
        },
        "outputId": "1dd3f5f1-a388-441b-eb6b-266458385908"
      },
      "source": [
        "set2.intersection(set1)"
      ],
      "execution_count": 61,
      "outputs": [
        {
          "output_type": "execute_result",
          "data": {
            "text/plain": [
              "{'Avengers', 'Ironman', 'Superman'}"
            ]
          },
          "metadata": {
            "tags": []
          },
          "execution_count": 61
        }
      ]
    },
    {
      "cell_type": "markdown",
      "metadata": {
        "id": "Sfp7DjVi7y6q",
        "colab_type": "text"
      },
      "source": [
        "# **Dictionary**\n",
        "Dictionary is a collection which is unordered, changeable and indexed. No duplicate members.  It is written in curly braces and it has key value pairs.*i"
      ]
    },
    {
      "cell_type": "code",
      "metadata": {
        "id": "qYM9a_o-5D5O",
        "colab_type": "code",
        "colab": {
          "base_uri": "https://localhost:8080/",
          "height": 35
        },
        "outputId": "ebf7f168-5e1c-44b9-a79d-2191807a4bf7"
      },
      "source": [
        "my_dict={\"car1\":\"Audi\", \"car2\":\"BMW\", \"car3\":\"mercedes benz\"}\n",
        "my_dict[\"car1\"]"
      ],
      "execution_count": 63,
      "outputs": [
        {
          "output_type": "execute_result",
          "data": {
            "application/vnd.google.colaboratory.intrinsic+json": {
              "type": "string"
            },
            "text/plain": [
              "'Audi'"
            ]
          },
          "metadata": {
            "tags": []
          },
          "execution_count": 63
        }
      ]
    },
    {
      "cell_type": "code",
      "metadata": {
        "id": "4RP5U3M48NEg",
        "colab_type": "code",
        "colab": {
          "base_uri": "https://localhost:8080/",
          "height": 34
        },
        "outputId": "ac42ee7d-71c5-45ee-e1a3-a5559f3e3d21"
      },
      "source": [
        "type(my_dict)"
      ],
      "execution_count": 64,
      "outputs": [
        {
          "output_type": "execute_result",
          "data": {
            "text/plain": [
              "dict"
            ]
          },
          "metadata": {
            "tags": []
          },
          "execution_count": 64
        }
      ]
    },
    {
      "cell_type": "code",
      "metadata": {
        "id": "_DgM_Nrj8Ozx",
        "colab_type": "code",
        "colab": {
          "base_uri": "https://localhost:8080/",
          "height": 68
        },
        "outputId": "a74344d1-b7e0-4504-d95c-c318fea99d63"
      },
      "source": [
        "for x in my_dict:\n",
        "    print(x)"
      ],
      "execution_count": 65,
      "outputs": [
        {
          "output_type": "stream",
          "text": [
            "car1\n",
            "car2\n",
            "car3\n"
          ],
          "name": "stdout"
        }
      ]
    },
    {
      "cell_type": "code",
      "metadata": {
        "id": "GFm_dVKa8O7T",
        "colab_type": "code",
        "colab": {
          "base_uri": "https://localhost:8080/",
          "height": 68
        },
        "outputId": "3e790b57-19af-489b-cfc3-a64b69fd268a"
      },
      "source": [
        "for x in my_dict.items():\n",
        "  print(x)"
      ],
      "execution_count": 67,
      "outputs": [
        {
          "output_type": "stream",
          "text": [
            "('car1', 'Audi')\n",
            "('car2', 'BMW')\n",
            "('car3', 'mercedes benz')\n"
          ],
          "name": "stdout"
        }
      ]
    },
    {
      "cell_type": "code",
      "metadata": {
        "id": "SODcVLhd8cQc",
        "colab_type": "code",
        "colab": {}
      },
      "source": [
        "my_dict['car4']=\"Porche\""
      ],
      "execution_count": 68,
      "outputs": []
    },
    {
      "cell_type": "code",
      "metadata": {
        "id": "LTFyvr_l8cUp",
        "colab_type": "code",
        "colab": {
          "base_uri": "https://localhost:8080/",
          "height": 34
        },
        "outputId": "14b073ea-0bd8-4dc3-b3a2-37f83eae62b4"
      },
      "source": [
        "my_dict"
      ],
      "execution_count": 69,
      "outputs": [
        {
          "output_type": "execute_result",
          "data": {
            "text/plain": [
              "{'car1': 'Audi', 'car2': 'BMW', 'car3': 'mercedes benz', 'car4': 'Porche'}"
            ]
          },
          "metadata": {
            "tags": []
          },
          "execution_count": 69
        }
      ]
    },
    {
      "cell_type": "markdown",
      "metadata": {
        "id": "8qVzb43m9Bra",
        "colab_type": "text"
      },
      "source": [
        "## Nested Dictionary"
      ]
    },
    {
      "cell_type": "code",
      "metadata": {
        "id": "ytDk-4bq8cdJ",
        "colab_type": "code",
        "colab": {}
      },
      "source": [
        "car1_model={'Mercedes':1960}\n",
        "car2_model={'Audi':1970}\n",
        "car3_model={'Ambassador':1950}\n",
        "car_type={'car1':car1_model, 'car2':car2_model, 'car3':car3_model}"
      ],
      "execution_count": 70,
      "outputs": []
    },
    {
      "cell_type": "code",
      "metadata": {
        "id": "gIeMCsPp8cOY",
        "colab_type": "code",
        "colab": {
          "base_uri": "https://localhost:8080/",
          "height": 34
        },
        "outputId": "34beae68-1c39-4df9-ba68-8d21424ed060"
      },
      "source": [
        "print(car_type)"
      ],
      "execution_count": 71,
      "outputs": [
        {
          "output_type": "stream",
          "text": [
            "{'car1': {'Mercedes': 1960}, 'car2': {'Audi': 1970}, 'car3': {'Ambassador': 1950}}\n"
          ],
          "name": "stdout"
        }
      ]
    },
    {
      "cell_type": "code",
      "metadata": {
        "id": "HjbXFeX88PG-",
        "colab_type": "code",
        "colab": {
          "base_uri": "https://localhost:8080/",
          "height": 34
        },
        "outputId": "e16bc8e7-f32b-40ac-b081-fd3e5923df15"
      },
      "source": [
        "print(car_type['car2']['Audi'])"
      ],
      "execution_count": 72,
      "outputs": [
        {
          "output_type": "stream",
          "text": [
            "1970\n"
          ],
          "name": "stdout"
        }
      ]
    },
    {
      "cell_type": "markdown",
      "metadata": {
        "id": "3aaikXz19g4q",
        "colab_type": "text"
      },
      "source": [
        "# **Tuples**\n",
        "Tuple is a collection which is ordered and unchangeable. Allows duplicate members.\n",
        "\n",
        "\n"
      ]
    },
    {
      "cell_type": "code",
      "metadata": {
        "id": "Vp6jzMKM8PEA",
        "colab_type": "code",
        "colab": {
          "base_uri": "https://localhost:8080/",
          "height": 34
        },
        "outputId": "5571cd95-19c7-45f2-be98-ff33777e7de9"
      },
      "source": [
        "my_tuple=tuple()\n",
        "type(my_tuple)"
      ],
      "execution_count": 74,
      "outputs": [
        {
          "output_type": "execute_result",
          "data": {
            "text/plain": [
              "tuple"
            ]
          },
          "metadata": {
            "tags": []
          },
          "execution_count": 74
        }
      ]
    },
    {
      "cell_type": "code",
      "metadata": {
        "id": "rcI-SiQY8PBa",
        "colab_type": "code",
        "colab": {}
      },
      "source": [
        "my_tuple =(\"Susmita\", \"Pooja\", \"Sonam\")"
      ],
      "execution_count": 75,
      "outputs": []
    },
    {
      "cell_type": "code",
      "metadata": {
        "id": "A2mSOKu88PAA",
        "colab_type": "code",
        "colab": {
          "base_uri": "https://localhost:8080/",
          "height": 35
        },
        "outputId": "21ee4d9c-fba1-4473-960a-4cab1b516ad6"
      },
      "source": [
        "my_tuple[1]"
      ],
      "execution_count": 77,
      "outputs": [
        {
          "output_type": "execute_result",
          "data": {
            "application/vnd.google.colaboratory.intrinsic+json": {
              "type": "string"
            },
            "text/plain": [
              "'Pooja'"
            ]
          },
          "metadata": {
            "tags": []
          },
          "execution_count": 77
        }
      ]
    },
    {
      "cell_type": "code",
      "metadata": {
        "id": "KO2R4mGM8O31",
        "colab_type": "code",
        "colab": {
          "base_uri": "https://localhost:8080/",
          "height": 34
        },
        "outputId": "bf1c5276-e56d-415f-e024-4da4ae2e615d"
      },
      "source": [
        "print(type(my_tuple))"
      ],
      "execution_count": 78,
      "outputs": [
        {
          "output_type": "stream",
          "text": [
            "<class 'tuple'>\n"
          ],
          "name": "stdout"
        }
      ]
    },
    {
      "cell_type": "code",
      "metadata": {
        "id": "PMJLDbCe_qCx",
        "colab_type": "code",
        "colab": {
          "base_uri": "https://localhost:8080/",
          "height": 163
        },
        "outputId": "366d7465-98e2-44a5-ef09-c26a803e643f"
      },
      "source": [
        "my_tuple[0]=\"Sonali\"                 # Elements of the tuples cannot be changed"
      ],
      "execution_count": 82,
      "outputs": [
        {
          "output_type": "error",
          "ename": "TypeError",
          "evalue": "ignored",
          "traceback": [
            "\u001b[0;31m---------------------------------------------------------------------------\u001b[0m",
            "\u001b[0;31mTypeError\u001b[0m                                 Traceback (most recent call last)",
            "\u001b[0;32m<ipython-input-82-0e3388c54016>\u001b[0m in \u001b[0;36m<module>\u001b[0;34m()\u001b[0m\n\u001b[0;32m----> 1\u001b[0;31m \u001b[0mmy_tuple\u001b[0m\u001b[0;34m[\u001b[0m\u001b[0;36m0\u001b[0m\u001b[0;34m]\u001b[0m\u001b[0;34m=\u001b[0m\u001b[0;34m\"Sonali\"\u001b[0m\u001b[0;34m\u001b[0m\u001b[0;34m\u001b[0m\u001b[0m\n\u001b[0m",
            "\u001b[0;31mTypeError\u001b[0m: 'str' object does not support item assignment"
          ]
        }
      ]
    },
    {
      "cell_type": "code",
      "metadata": {
        "id": "fhiVMR6C-qDk",
        "colab_type": "code",
        "colab": {
          "base_uri": "https://localhost:8080/",
          "height": 34
        },
        "outputId": "5e8f41e8-e4a1-4920-f5c5-7a5c937e3e0f"
      },
      "source": [
        "print(my_tuple)"
      ],
      "execution_count": 79,
      "outputs": [
        {
          "output_type": "stream",
          "text": [
            "('Susmita', 'Pooja', 'Sonam')\n"
          ],
          "name": "stdout"
        }
      ]
    },
    {
      "cell_type": "code",
      "metadata": {
        "id": "7ux2ckeU-qLw",
        "colab_type": "code",
        "colab": {
          "base_uri": "https://localhost:8080/",
          "height": 35
        },
        "outputId": "d376b80e-fa33-48fe-f86e-3b543bb9ae54"
      },
      "source": [
        "my_tuple=(\"HELLO\")\n",
        "my_tuple                        # The whole tuple can be changed but not a single item"
      ],
      "execution_count": 80,
      "outputs": [
        {
          "output_type": "execute_result",
          "data": {
            "application/vnd.google.colaboratory.intrinsic+json": {
              "type": "string"
            },
            "text/plain": [
              "'HELLO'"
            ]
          },
          "metadata": {
            "tags": []
          },
          "execution_count": 80
        }
      ]
    },
    {
      "cell_type": "code",
      "metadata": {
        "id": "XtT08hpX-qIn",
        "colab_type": "code",
        "colab": {
          "base_uri": "https://localhost:8080/",
          "height": 34
        },
        "outputId": "6aa987da-5cab-4169-c1f5-c78a39bc57a0"
      },
      "source": [
        "my_tuple.index(\"HELLO\")\n"
      ],
      "execution_count": 81,
      "outputs": [
        {
          "output_type": "execute_result",
          "data": {
            "text/plain": [
              "0"
            ]
          },
          "metadata": {
            "tags": []
          },
          "execution_count": 81
        }
      ]
    }
  ]
}